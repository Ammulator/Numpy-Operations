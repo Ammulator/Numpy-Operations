{
  "nbformat": 4,
  "nbformat_minor": 0,
  "metadata": {
    "colab": {
      "name": "Numpy Operations.ipynb",
      "provenance": [],
      "collapsed_sections": [],
      "authorship_tag": "ABX9TyO3mzvLv0WmL2r237Qa2ZvS",
      "include_colab_link": true
    },
    "kernelspec": {
      "name": "python3",
      "display_name": "Python 3"
    }
  },
  "cells": [
    {
      "cell_type": "markdown",
      "metadata": {
        "id": "view-in-github",
        "colab_type": "text"
      },
      "source": [
        "<a href=\"https://colab.research.google.com/github/Ammulator/Numpy-Operations/blob/main/Numpy_Operations.ipynb\" target=\"_parent\"><img src=\"https://colab.research.google.com/assets/colab-badge.svg\" alt=\"Open In Colab\"/></a>"
      ]
    },
    {
      "cell_type": "markdown",
      "metadata": {
        "id": "PJPx7f1j94Km"
      },
      "source": [
        "Install Libraries Required in Operations"
      ]
    },
    {
      "cell_type": "code",
      "metadata": {
        "id": "-OsDmOJi9oT0"
      },
      "source": [
        "import numpy as np\r\n",
        "import sys\r\n",
        "import time\r\n",
        "import matplotlib.pyplot as plt\r\n",
        "%matplotlib inline"
      ],
      "execution_count": 7,
      "outputs": []
    },
    {
      "cell_type": "markdown",
      "metadata": {
        "id": "BOJxJ2oD_toh"
      },
      "source": [
        "**LIST Vs Numpy Arrays**"
      ]
    },
    {
      "cell_type": "markdown",
      "metadata": {
        "id": "qEg9xyUZ__Wg"
      },
      "source": [
        "Storage Comparision in List and Numpy Arrays"
      ]
    },
    {
      "cell_type": "code",
      "metadata": {
        "colab": {
          "base_uri": "https://localhost:8080/"
        },
        "id": "jRTn57bPADvq",
        "outputId": "d5579732-53be-445f-8665-34c95a588920"
      },
      "source": [
        "l= range(1000)\r\n",
        "n=np.arange(1000)\r\n",
        " #For List\r\n",
        "print(\"Storage of List: \",sys.getsizeof(1)*len(l))   \r\n",
        " #For Arrays\r\n",
        "print(\"Storage of Numpy Array: \",n.size*n.itemsize) "
      ],
      "execution_count": 9,
      "outputs": [
        {
          "output_type": "stream",
          "text": [
            "Storage of List:  28000\n",
            "Storage of Numpy Array:  8000\n"
          ],
          "name": "stdout"
        }
      ]
    },
    {
      "cell_type": "markdown",
      "metadata": {
        "id": "2eQ3oRVjBeqA"
      },
      "source": [
        "Time Comparision"
      ]
    },
    {
      "cell_type": "code",
      "metadata": {
        "id": "N_m99J0SBeKH"
      },
      "source": [
        "s=100000\r\n",
        "l1=range(s)\r\n",
        "l2=range(s)\r\n",
        "n1=np.arange(s)\r\n",
        "n2=np.arange(s)"
      ],
      "execution_count": 10,
      "outputs": []
    },
    {
      "cell_type": "code",
      "metadata": {
        "colab": {
          "base_uri": "https://localhost:8080/"
        },
        "id": "-DkPEVxiCv0p",
        "outputId": "8c9f4404-04f4-4389-ed06-51bfdf65bd26"
      },
      "source": [
        "#For List Time comparision\r\n",
        "#Starting the time \r\n",
        "start=time.time()\r\n",
        "result=[]\r\n",
        "for i in range(s):\r\n",
        "  result.append(l1[i]+l2[i])\r\n",
        "#printing time in milli second by multiplying 1000\r\n",
        "print(1000*(time.time()-start))"
      ],
      "execution_count": 12,
      "outputs": [
        {
          "output_type": "stream",
          "text": [
            "45.57967185974121\n"
          ],
          "name": "stdout"
        }
      ]
    },
    {
      "cell_type": "code",
      "metadata": {
        "colab": {
          "base_uri": "https://localhost:8080/"
        },
        "id": "1uYEhaQJEHL0",
        "outputId": "e69e82df-5c6f-4ee1-bbe0-aa889fef850e"
      },
      "source": [
        "#For Numpy Array\r\n",
        "start=time.time()\r\n",
        "n3=n1+n2\r\n",
        "print(1000*(time.time()-start))"
      ],
      "execution_count": 14,
      "outputs": [
        {
          "output_type": "stream",
          "text": [
            "7.233619689941406\n"
          ],
          "name": "stdout"
        }
      ]
    },
    {
      "cell_type": "code",
      "metadata": {
        "colab": {
          "base_uri": "https://localhost:8080/"
        },
        "id": "IGsIuLWVEcqR",
        "outputId": "39094bc4-931b-4c28-dccf-8564245dd28e"
      },
      "source": [
        "#1-d Array\r\n",
        "arr=np.array([1,2,3,4])\r\n",
        "print(arr)"
      ],
      "execution_count": 16,
      "outputs": [
        {
          "output_type": "stream",
          "text": [
            "[1 2 3 4]\n"
          ],
          "name": "stdout"
        }
      ]
    },
    {
      "cell_type": "code",
      "metadata": {
        "colab": {
          "base_uri": "https://localhost:8080/"
        },
        "id": "drfRAoBFFFqO",
        "outputId": "a4d42287-188e-4c25-8ac4-791ab06d2063"
      },
      "source": [
        "#check Data Type\r\n",
        "type(arr)"
      ],
      "execution_count": 17,
      "outputs": [
        {
          "output_type": "execute_result",
          "data": {
            "text/plain": [
              "numpy.ndarray"
            ]
          },
          "metadata": {
            "tags": []
          },
          "execution_count": 17
        }
      ]
    },
    {
      "cell_type": "code",
      "metadata": {
        "colab": {
          "base_uri": "https://localhost:8080/"
        },
        "id": "Nkczr-VAFmur",
        "outputId": "6a757d5d-a5d7-44e7-bc8c-f86cdda1118b"
      },
      "source": [
        "#Check Dimension\r\n",
        "arr.ndim"
      ],
      "execution_count": 19,
      "outputs": [
        {
          "output_type": "execute_result",
          "data": {
            "text/plain": [
              "1"
            ]
          },
          "metadata": {
            "tags": []
          },
          "execution_count": 19
        }
      ]
    },
    {
      "cell_type": "code",
      "metadata": {
        "colab": {
          "base_uri": "https://localhost:8080/"
        },
        "id": "AhySJxHLFwow",
        "outputId": "29a17243-541b-41d2-f0b6-ba4ac4203b0f"
      },
      "source": [
        "#Creating 2-D array\r\n",
        "#We have to pass 2 list in a list\r\n",
        "a2=np.array([[1,2,3,4],[5,6,7,8]])\r\n",
        "print(a2)"
      ],
      "execution_count": 21,
      "outputs": [
        {
          "output_type": "stream",
          "text": [
            "[[1 2 3 4]\n",
            " [5 6 7 8]]\n"
          ],
          "name": "stdout"
        }
      ]
    },
    {
      "cell_type": "code",
      "metadata": {
        "colab": {
          "base_uri": "https://localhost:8080/"
        },
        "id": "K2QH3q5lGNFK",
        "outputId": "d47d6fca-e606-4e1d-e509-0eb30308a2c4"
      },
      "source": [
        "#Shape(row,col) to get no. of rows and columns\r\n",
        "a2.shape"
      ],
      "execution_count": 22,
      "outputs": [
        {
          "output_type": "execute_result",
          "data": {
            "text/plain": [
              "(2, 4)"
            ]
          },
          "metadata": {
            "tags": []
          },
          "execution_count": 22
        }
      ]
    },
    {
      "cell_type": "code",
      "metadata": {
        "colab": {
          "base_uri": "https://localhost:8080/"
        },
        "id": "OTEfN2DpGg65",
        "outputId": "39244402-394c-446d-d465-5e8caeb25c60"
      },
      "source": [
        "#Creating Ones List in 1-D \r\n",
        "oa=np.ones(5)\r\n",
        "print(oa)"
      ],
      "execution_count": 25,
      "outputs": [
        {
          "output_type": "stream",
          "text": [
            "[1. 1. 1. 1. 1.]\n"
          ],
          "name": "stdout"
        }
      ]
    },
    {
      "cell_type": "code",
      "metadata": {
        "colab": {
          "base_uri": "https://localhost:8080/"
        },
        "id": "ESK2Su23HUZn",
        "outputId": "3fd2ef0e-3480-4a4f-90cd-36cb0a18026f"
      },
      "source": [
        "#For 2-D\r\n",
        "oa2=np.ones((3,4))\r\n",
        "print(oa2)"
      ],
      "execution_count": 26,
      "outputs": [
        {
          "output_type": "stream",
          "text": [
            "[[1. 1. 1. 1.]\n",
            " [1. 1. 1. 1.]\n",
            " [1. 1. 1. 1.]]\n"
          ],
          "name": "stdout"
        }
      ]
    },
    {
      "cell_type": "code",
      "metadata": {
        "colab": {
          "base_uri": "https://localhost:8080/"
        },
        "id": "F1gl9H7RHwSb",
        "outputId": "2297603f-98f0-464f-810a-e6a678140169"
      },
      "source": [
        "#Empty list \r\n",
        "#Give the empty list that contain the cache elements \r\n",
        "ea=np.empty((3,5))\r\n",
        "print(ea)"
      ],
      "execution_count": 30,
      "outputs": [
        {
          "output_type": "stream",
          "text": [
            "[[1.05004997e-316 1.03977794e-312 1.01855798e-312 9.54898106e-313\n",
            "  1.16709769e-312]\n",
            " [1.01855798e-312 1.23075756e-312 1.14587773e-312 1.01855798e-312\n",
            "  9.76118064e-313]\n",
            " [1.16709769e-312 1.14587773e-312 1.10343781e-312 2.22809558e-312\n",
            "  2.14321575e-312]]\n"
          ],
          "name": "stdout"
        }
      ]
    },
    {
      "cell_type": "code",
      "metadata": {
        "colab": {
          "base_uri": "https://localhost:8080/"
        },
        "id": "ZFiKAIDnIQUC",
        "outputId": "db7bbb00-d6ef-450f-a918-afe69a8f2293"
      },
      "source": [
        "#creating a list using arange(start,end,step),default step=1 , end is excluded.\r\n",
        "array=np.arange(1,12)\r\n",
        "print(array)"
      ],
      "execution_count": 31,
      "outputs": [
        {
          "output_type": "stream",
          "text": [
            "[ 1  2  3  4  5  6  7  8  9 10 11]\n"
          ],
          "name": "stdout"
        }
      ]
    },
    {
      "cell_type": "code",
      "metadata": {
        "colab": {
          "base_uri": "https://localhost:8080/"
        },
        "id": "i4uoTA-zJmJO",
        "outputId": "8d1ad786-e60f-48bb-fb2b-40ad0152b396"
      },
      "source": [
        "#get a fix value in range using linspace function\r\n",
        "#linspace(start,end,needed value)\r\n",
        "#It divides the (1,10) interval in proper needed value defalut is 1\r\n",
        "linspace_a=np.linspace(1,20,3)\r\n",
        "print(linspace_a)"
      ],
      "execution_count": 37,
      "outputs": [
        {
          "output_type": "stream",
          "text": [
            "[ 1.  10.5 20. ]\n"
          ],
          "name": "stdout"
        }
      ]
    },
    {
      "cell_type": "code",
      "metadata": {
        "colab": {
          "base_uri": "https://localhost:8080/"
        },
        "id": "80hSReYvNYtC",
        "outputId": "eb833183-37e7-45df-e1ea-a70e6d34cbe5"
      },
      "source": [
        "#Convert 1-D to 2-D array using reshape\r\n",
        "a=np.arange(1,13)\r\n",
        "\r\n",
        "reshape_a=a.reshape(2,6)\r\n",
        "print(reshape_a)"
      ],
      "execution_count": 45,
      "outputs": [
        {
          "output_type": "stream",
          "text": [
            "[[ 1  2  3  4  5  6]\n",
            " [ 7  8  9 10 11 12]]\n"
          ],
          "name": "stdout"
        }
      ]
    },
    {
      "cell_type": "code",
      "metadata": {
        "colab": {
          "base_uri": "https://localhost:8080/"
        },
        "id": "dN1WkikWPl_I",
        "outputId": "a974141c-c6f1-4cd6-dfeb-232ceda0a3cc"
      },
      "source": [
        "#Convert N-D to 1-D using ravel\r\n",
        "#using reshape array which is in 2D\r\n",
        "ra_a=reshape_a.ravel()\r\n",
        "print(ra_a)"
      ],
      "execution_count": 46,
      "outputs": [
        {
          "output_type": "stream",
          "text": [
            "[ 1  2  3  4  5  6  7  8  9 10 11 12]\n"
          ],
          "name": "stdout"
        }
      ]
    },
    {
      "cell_type": "code",
      "metadata": {
        "colab": {
          "base_uri": "https://localhost:8080/"
        },
        "id": "2pzV4z_DQLO2",
        "outputId": "58939fbb-cef3-4dfe-c14e-d6941258031c"
      },
      "source": [
        "#Convert M-D to 1D using flatten function\r\n",
        "#First covert the ravel array into MD array by reshaping\r\n",
        "a=ra_a.reshape(4,3)\r\n",
        "print(a)\r\n",
        "print(\"____________________________________________\\n\")\r\n",
        "fla_a=a.flatten()\r\n",
        "print(fla_a)"
      ],
      "execution_count": 50,
      "outputs": [
        {
          "output_type": "stream",
          "text": [
            "[[ 1  2  3]\n",
            " [ 4  5  6]\n",
            " [ 7  8  9]\n",
            " [10 11 12]]\n",
            "____________________________________________\n",
            "\n",
            "[ 1  2  3  4  5  6  7  8  9 10 11 12]\n"
          ],
          "name": "stdout"
        }
      ]
    },
    {
      "cell_type": "code",
      "metadata": {
        "colab": {
          "base_uri": "https://localhost:8080/"
        },
        "id": "Tuei9vXARNqI",
        "outputId": "2879fd81-4d14-43cb-cce1-bd0a1d804bfe"
      },
      "source": [
        "#Transpose of array\r\n",
        "tra_arr=a.transpose()\r\n",
        "print(tra_arr)"
      ],
      "execution_count": 52,
      "outputs": [
        {
          "output_type": "stream",
          "text": [
            "[[ 1  4  7 10]\n",
            " [ 2  5  8 11]\n",
            " [ 3  6  9 12]]\n"
          ],
          "name": "stdout"
        }
      ]
    },
    {
      "cell_type": "markdown",
      "metadata": {
        "id": "1HvGa3bER84e"
      },
      "source": [
        "**Mathematical Operations**"
      ]
    },
    {
      "cell_type": "code",
      "metadata": {
        "colab": {
          "base_uri": "https://localhost:8080/"
        },
        "id": "pYzQKdosR4xG",
        "outputId": "314a2e26-9006-4ac3-cb5a-a2e3e92cb90e"
      },
      "source": [
        "a1=np.array([[1,2],[3,4]])\r\n",
        "a2=np.array([[5,6],[6,7]])\r\n",
        "print(a1)\r\n",
        "print(a2)"
      ],
      "execution_count": 53,
      "outputs": [
        {
          "output_type": "stream",
          "text": [
            "[[1 2]\n",
            " [3 4]]\n",
            "[[5 6]\n",
            " [6 7]]\n"
          ],
          "name": "stdout"
        }
      ]
    },
    {
      "cell_type": "code",
      "metadata": {
        "colab": {
          "base_uri": "https://localhost:8080/"
        },
        "id": "kGg4W1X-SsIa",
        "outputId": "047c8405-28ef-47b8-ae9f-9522a6e18068"
      },
      "source": [
        "#Addition of Array using function\r\n",
        "add_ar=np.add(a1,a2)\r\n",
        "print(add_ar)"
      ],
      "execution_count": 54,
      "outputs": [
        {
          "output_type": "stream",
          "text": [
            "[[ 6  8]\n",
            " [ 9 11]]\n"
          ],
          "name": "stdout"
        }
      ]
    },
    {
      "cell_type": "code",
      "metadata": {
        "colab": {
          "base_uri": "https://localhost:8080/"
        },
        "id": "iUvYgPUCTAcT",
        "outputId": "4662dfc5-3719-4535-a08b-a987f519dbd5"
      },
      "source": [
        "#Subtraction using functiom\r\n",
        "sub_ar=np.subtract(a1,a2)\r\n",
        "print(sub_ar)"
      ],
      "execution_count": 55,
      "outputs": [
        {
          "output_type": "stream",
          "text": [
            "[[-4 -4]\n",
            " [-3 -3]]\n"
          ],
          "name": "stdout"
        }
      ]
    },
    {
      "cell_type": "code",
      "metadata": {
        "colab": {
          "base_uri": "https://localhost:8080/"
        },
        "id": "8-w88A6xTRo-",
        "outputId": "90632264-d8ad-401a-a1e9-a8ef8a9181e3"
      },
      "source": [
        "#Multiplication of array using dot function\r\n",
        "mul_a=a1.dot(a2)\r\n",
        "print(mul_a)"
      ],
      "execution_count": 56,
      "outputs": [
        {
          "output_type": "stream",
          "text": [
            "[[17 20]\n",
            " [39 46]]\n"
          ],
          "name": "stdout"
        }
      ]
    },
    {
      "cell_type": "code",
      "metadata": {
        "colab": {
          "base_uri": "https://localhost:8080/"
        },
        "id": "s2oqQ7GyT_05",
        "outputId": "4214a366-cf53-4147-c6e5-70b8bc4846d0"
      },
      "source": [
        "#Finding Maximun element in Multiplication Array with its Location\r\n",
        "max_ele=mul_a.max()\r\n",
        "print(max_ele)\r\n",
        "max_ele_pos=mul_a.argmax()\r\n",
        "print(max_ele_pos)"
      ],
      "execution_count": 58,
      "outputs": [
        {
          "output_type": "stream",
          "text": [
            "46\n",
            "3\n"
          ],
          "name": "stdout"
        }
      ]
    },
    {
      "cell_type": "code",
      "metadata": {
        "colab": {
          "base_uri": "https://localhost:8080/"
        },
        "id": "Td0K6oHxX2mq",
        "outputId": "4e635484-5ae9-4249-fe3b-551573889726"
      },
      "source": [
        "#Finding Minimum element with its location\r\n",
        "min_ele=mul_a.min()\r\n",
        "print(min_ele)\r\n",
        "min_ele_pos=mul_a.argmin()\r\n",
        "print(min_ele_pos)"
      ],
      "execution_count": 60,
      "outputs": [
        {
          "output_type": "stream",
          "text": [
            "17\n",
            "0\n"
          ],
          "name": "stdout"
        }
      ]
    },
    {
      "cell_type": "code",
      "metadata": {
        "colab": {
          "base_uri": "https://localhost:8080/"
        },
        "id": "mqUvAieiYTWq",
        "outputId": "65fd215a-745c-4cdd-a8c1-05176011c3f8"
      },
      "source": [
        "#Find Maximum and Minimum within a row or column\r\n",
        "#When axis=0 , for row\r\n",
        "#When axis=1, for column\r\n",
        "\r\n",
        "#Finding maximum in row\r\n",
        "max_in_row=mul_a.max(axis=0)\r\n",
        "print(\"Maximum in Row= \",max_in_row)\r\n",
        "\r\n",
        "#Finding maximum in Column\r\n",
        "max_in_column=mul_a.max(axis=1)\r\n",
        "print(\"Maximum in Column= \",max_in_column)\r\n",
        "\r\n",
        "#Finding Minimum in Row\r\n",
        "min_in_row=mul_a.min(axis=0)\r\n",
        "print(\"Minimum in Row= \",min_in_row)\r\n",
        "\r\n",
        "#Finding Minimum in Column\r\n",
        "min_in_column=mul_a.min(axis=1)\r\n",
        "print(\"Minimum in Column= \",min_in_column)"
      ],
      "execution_count": 62,
      "outputs": [
        {
          "output_type": "stream",
          "text": [
            "Maximum in Row=  [39 46]\n",
            "Maximum in Column=  [20 46]\n",
            "Minimum in Row=  [17 20]\n",
            "Minimum in Column=  [17 39]\n"
          ],
          "name": "stdout"
        }
      ]
    },
    {
      "cell_type": "code",
      "metadata": {
        "colab": {
          "base_uri": "https://localhost:8080/"
        },
        "id": "-ydwoGY9aiuC",
        "outputId": "fbb82f11-3633-4ab0-d628-4e5ba72a2a5f"
      },
      "source": [
        "#Sum of array using sum function\r\n",
        "a=np.arange(1,16)\r\n",
        "arr=a.reshape(5,3)\r\n",
        "print(arr)\r\n",
        "print(\"\\n\\nSum of Array is : \",np.sum(arr))"
      ],
      "execution_count": 68,
      "outputs": [
        {
          "output_type": "stream",
          "text": [
            "[[ 1  2  3]\n",
            " [ 4  5  6]\n",
            " [ 7  8  9]\n",
            " [10 11 12]\n",
            " [13 14 15]]\n",
            "\n",
            "\n",
            "Sum of Array is :  120\n"
          ],
          "name": "stdout"
        }
      ]
    },
    {
      "cell_type": "code",
      "metadata": {
        "colab": {
          "base_uri": "https://localhost:8080/"
        },
        "id": "juIBp2TRdR-1",
        "outputId": "0eb428e1-1d7a-4f30-81fe-0b0217b71745"
      },
      "source": [
        "#Sum of Rows\r\n",
        "print(\"Sum of Rows are: \",np.sum(arr, axis=0))\r\n",
        "\r\n",
        "#Sum of column\r\n",
        "print(\"\\n \\nSum of columns are: \",np.sum(arr, axis=1))"
      ],
      "execution_count": 70,
      "outputs": [
        {
          "output_type": "stream",
          "text": [
            "Sum of Rows are:  [35 40 45]\n",
            "\n",
            " \n",
            "Sum of columns are:  [ 6 15 24 33 42]\n"
          ],
          "name": "stdout"
        }
      ]
    },
    {
      "cell_type": "code",
      "metadata": {
        "colab": {
          "base_uri": "https://localhost:8080/"
        },
        "id": "QS0-Dl2nd0Go",
        "outputId": "29bf3625-834e-4158-e635-a42d68ea1a0c"
      },
      "source": [
        "#Mean of Array\r\n",
        "print(np.mean(arr))"
      ],
      "execution_count": 74,
      "outputs": [
        {
          "output_type": "stream",
          "text": [
            "8.0\n"
          ],
          "name": "stdout"
        }
      ]
    },
    {
      "cell_type": "code",
      "metadata": {
        "colab": {
          "base_uri": "https://localhost:8080/"
        },
        "id": "tZiIlY-Id9FE",
        "outputId": "631eaf03-3a77-49a9-cf9f-2dbf51022706"
      },
      "source": [
        "#Standard Deviation of array\r\n",
        "print(np.std(arr))"
      ],
      "execution_count": 75,
      "outputs": [
        {
          "output_type": "stream",
          "text": [
            "4.320493798938574\n"
          ],
          "name": "stdout"
        }
      ]
    },
    {
      "cell_type": "code",
      "metadata": {
        "colab": {
          "base_uri": "https://localhost:8080/"
        },
        "id": "ZKCH-AjHeONQ",
        "outputId": "afc1fd6b-9b6c-405d-bbe2-f2a1ba525d02"
      },
      "source": [
        "#Square root of array\r\n",
        "print(np.sqrt(arr))"
      ],
      "execution_count": 76,
      "outputs": [
        {
          "output_type": "stream",
          "text": [
            "[[1.         1.41421356 1.73205081]\n",
            " [2.         2.23606798 2.44948974]\n",
            " [2.64575131 2.82842712 3.        ]\n",
            " [3.16227766 3.31662479 3.46410162]\n",
            " [3.60555128 3.74165739 3.87298335]]\n"
          ],
          "name": "stdout"
        }
      ]
    },
    {
      "cell_type": "code",
      "metadata": {
        "colab": {
          "base_uri": "https://localhost:8080/"
        },
        "id": "0gaczHWce_Im",
        "outputId": "c326abbd-c41c-4b65-b238-bb124703dabb"
      },
      "source": [
        "#Expontial of Array\r\n",
        "print(np.exp(arr))"
      ],
      "execution_count": 77,
      "outputs": [
        {
          "output_type": "stream",
          "text": [
            "[[2.71828183e+00 7.38905610e+00 2.00855369e+01]\n",
            " [5.45981500e+01 1.48413159e+02 4.03428793e+02]\n",
            " [1.09663316e+03 2.98095799e+03 8.10308393e+03]\n",
            " [2.20264658e+04 5.98741417e+04 1.62754791e+05]\n",
            " [4.42413392e+05 1.20260428e+06 3.26901737e+06]]\n"
          ],
          "name": "stdout"
        }
      ]
    },
    {
      "cell_type": "code",
      "metadata": {
        "colab": {
          "base_uri": "https://localhost:8080/"
        },
        "id": "2026Zil_fVcf",
        "outputId": "4b2d869d-3dd0-47ba-83ad-03f235bf02ba"
      },
      "source": [
        "#Logarithm of Array\r\n",
        "print(np.log(a))"
      ],
      "execution_count": 78,
      "outputs": [
        {
          "output_type": "stream",
          "text": [
            "[0.         0.69314718 1.09861229 1.38629436 1.60943791 1.79175947\n",
            " 1.94591015 2.07944154 2.19722458 2.30258509 2.39789527 2.48490665\n",
            " 2.56494936 2.63905733 2.7080502 ]\n"
          ],
          "name": "stdout"
        }
      ]
    },
    {
      "cell_type": "code",
      "metadata": {
        "colab": {
          "base_uri": "https://localhost:8080/"
        },
        "id": "Xwg0qJgNfekj",
        "outputId": "a3d56f6c-d9fa-4338-996b-032002159360"
      },
      "source": [
        "#Log base of array\r\n",
        "print(np.log10(arr))"
      ],
      "execution_count": 79,
      "outputs": [
        {
          "output_type": "stream",
          "text": [
            "[[0.         0.30103    0.47712125]\n",
            " [0.60205999 0.69897    0.77815125]\n",
            " [0.84509804 0.90308999 0.95424251]\n",
            " [1.         1.04139269 1.07918125]\n",
            " [1.11394335 1.14612804 1.17609126]]\n"
          ],
          "name": "stdout"
        }
      ]
    },
    {
      "cell_type": "markdown",
      "metadata": {
        "id": "Y0JLczBkfo6g"
      },
      "source": [
        "**Numpy Array Slicing**"
      ]
    },
    {
      "cell_type": "code",
      "metadata": {
        "colab": {
          "base_uri": "https://localhost:8080/"
        },
        "id": "HVFugBCPfnuD",
        "outputId": "da6a2f19-38dc-4ae4-fbed-1da662a49019"
      },
      "source": [
        "#create a array\r\n",
        "arr=np.arange(1,13)\r\n",
        "a=arr.reshape(3,4)\r\n",
        "print(a)"
      ],
      "execution_count": 81,
      "outputs": [
        {
          "output_type": "stream",
          "text": [
            "[[ 1  2  3  4]\n",
            " [ 5  6  7  8]\n",
            " [ 9 10 11 12]]\n"
          ],
          "name": "stdout"
        }
      ]
    },
    {
      "cell_type": "code",
      "metadata": {
        "colab": {
          "base_uri": "https://localhost:8080/"
        },
        "id": "OXQ1ElNGgZTu",
        "outputId": "85442908-9a71-4137-d1af-e33ab04c3891"
      },
      "source": [
        "#For row\r\n",
        "print(a[0])"
      ],
      "execution_count": 82,
      "outputs": [
        {
          "output_type": "stream",
          "text": [
            "[1 2 3 4]\n"
          ],
          "name": "stdout"
        }
      ]
    },
    {
      "cell_type": "code",
      "metadata": {
        "colab": {
          "base_uri": "https://localhost:8080/"
        },
        "id": "Xg0d_Wlxgswb",
        "outputId": "3ad0364b-8d05-4bf4-e3db-fa6a895e67be"
      },
      "source": [
        "#For Column\r\n",
        "print(a[:,0])"
      ],
      "execution_count": 84,
      "outputs": [
        {
          "output_type": "stream",
          "text": [
            "[1 5 9]\n"
          ],
          "name": "stdout"
        }
      ]
    },
    {
      "cell_type": "code",
      "metadata": {
        "colab": {
          "base_uri": "https://localhost:8080/"
        },
        "id": "GFl0VNeog_Mz",
        "outputId": "86657ae0-091d-4fd0-d0c6-c8724b26dd7f"
      },
      "source": [
        "#For Multiple ROWS and COLUMNS\r\n",
        "#For ROWS\r\n",
        "print(\"For Multiple rows: \\n\",a[0:2,])\r\n",
        "\r\n",
        "# For Columns\r\n",
        "print(\"\\n\\nFor Multiple Columns:\\n \",a[:,0:2])"
      ],
      "execution_count": 90,
      "outputs": [
        {
          "output_type": "stream",
          "text": [
            "For Multiple rows: \n",
            " [[1 2 3 4]\n",
            " [5 6 7 8]]\n",
            "\n",
            "\n",
            "For Multiple Columns:\n",
            "  [[ 1  2]\n",
            " [ 5  6]\n",
            " [ 9 10]]\n"
          ],
          "name": "stdout"
        }
      ]
    },
    {
      "cell_type": "markdown",
      "metadata": {
        "id": "UlUlyb4OiEuL"
      },
      "source": [
        "Numpy Array Concatenation and Split"
      ]
    },
    {
      "cell_type": "code",
      "metadata": {
        "colab": {
          "base_uri": "https://localhost:8080/"
        },
        "id": "aq0P21xAh_pF",
        "outputId": "adc7a3f9-7c60-4090-d640-8e0f66f10478"
      },
      "source": [
        "#we use two list to concatenate it to single list using \"+\" operator\r\n",
        "l1=[1,2,3,4]\r\n",
        "l2=[4,6,7,8]\r\n",
        "print(l1+l2)"
      ],
      "execution_count": 94,
      "outputs": [
        {
          "output_type": "stream",
          "text": [
            "[1, 2, 3, 4, 4, 6, 7, 8]\n"
          ],
          "name": "stdout"
        }
      ]
    },
    {
      "cell_type": "code",
      "metadata": {
        "colab": {
          "base_uri": "https://localhost:8080/"
        },
        "id": "72MCNoa_ij63",
        "outputId": "53a6e1d1-cb57-47b2-fd85-30aecada85ea"
      },
      "source": [
        "#Convert to numpy array using concat function\r\n",
        "n=np.concatenate((l1,l2))\r\n",
        "print(n)"
      ],
      "execution_count": 95,
      "outputs": [
        {
          "output_type": "stream",
          "text": [
            "[1 2 3 4 4 6 7 8]\n"
          ],
          "name": "stdout"
        }
      ]
    },
    {
      "cell_type": "code",
      "metadata": {
        "colab": {
          "base_uri": "https://localhost:8080/"
        },
        "id": "3Cjxmq0YlSB2",
        "outputId": "483a4224-175d-4ebb-898c-2ed0af6e4ae2"
      },
      "source": [
        "print(min))\r\n",
        "#Conacte vertical stack\r\n",
        "varr=np.vstack((l1,l2))\r\n",
        "print(varr)"
      ],
      "execution_count": 97,
      "outputs": [
        {
          "output_type": "stream",
          "text": [
            "[[1 2 3 4]\n",
            " [4 6 7 8]]\n"
          ],
          "name": "stdout"
        }
      ]
    },
    {
      "cell_type": "code",
      "metadata": {
        "colab": {
          "base_uri": "https://localhost:8080/"
        },
        "id": "Xq-mSHwyll_Q",
        "outputId": "f7e2433d-0925-43ca-a384-44e9d54e3bcd"
      },
      "source": [
        "#Horizontal Stack\r\n",
        "harr=np.hstack((l1,l2))\r\n",
        "print(harr)"
      ],
      "execution_count": 99,
      "outputs": [
        {
          "output_type": "stream",
          "text": [
            "[1 2 3 4 4 6 7 8]\n"
          ],
          "name": "stdout"
        }
      ]
    },
    {
      "cell_type": "code",
      "metadata": {
        "colab": {
          "base_uri": "https://localhost:8080/"
        },
        "id": "1K2eekM4l6Ja",
        "outputId": "8e753fd7-8b87-489a-90a0-a77a03dbe44a"
      },
      "source": [
        "#Split the list\r\n",
        "sparr=np.split(varr,2)\r\n",
        "print(sparr)"
      ],
      "execution_count": 100,
      "outputs": [
        {
          "output_type": "stream",
          "text": [
            "[array([[1, 2, 3, 4]]), array([[4, 6, 7, 8]])]\n"
          ],
          "name": "stdout"
        }
      ]
    },
    {
      "cell_type": "code",
      "metadata": {
        "colab": {
          "base_uri": "https://localhost:8080/"
        },
        "id": "DIFzP88MmZbf",
        "outputId": "ce653f39-63d3-40d9-b73c-832267baa268"
      },
      "source": [
        "sparr1=np.split(varr,2,axis=1)\r\n",
        "print(sparr1)"
      ],
      "execution_count": 101,
      "outputs": [
        {
          "output_type": "stream",
          "text": [
            "[array([[1, 2],\n",
            "       [4, 6]]), array([[3, 4],\n",
            "       [7, 8]])]\n"
          ],
          "name": "stdout"
        }
      ]
    },
    {
      "cell_type": "markdown",
      "metadata": {
        "id": "2IrkJ_K2muL3"
      },
      "source": [
        "**Random Sampling**"
      ]
    },
    {
      "cell_type": "code",
      "metadata": {
        "colab": {
          "base_uri": "https://localhost:8080/"
        },
        "id": "teKXEdc1mtiS",
        "outputId": "a41a30b1-40b7-4e2b-bc05-cb67a77c362d"
      },
      "source": [
        "#print a random number from 0 to 1 in which 1 is excluded\r\n",
        "print(np.random.random(1))"
      ],
      "execution_count": 102,
      "outputs": [
        {
          "output_type": "stream",
          "text": [
            "[0.43376071]\n"
          ],
          "name": "stdout"
        }
      ]
    },
    {
      "cell_type": "code",
      "metadata": {
        "colab": {
          "base_uri": "https://localhost:8080/"
        },
        "id": "Sf3f36k1oMyF",
        "outputId": "32a8543b-0d23-42dc-d5e4-af471b10dd43"
      },
      "source": [
        "#print a array of 3x3 of random nuber from 0 to 1 (excluded)\r\n",
        "print(np.random.random((3,3)))"
      ],
      "execution_count": 105,
      "outputs": [
        {
          "output_type": "stream",
          "text": [
            "[[0.79927722 0.39118152 0.55580595]\n",
            " [0.95315734 0.91331849 0.14807327]\n",
            " [0.55912232 0.7308839  0.96183021]]\n"
          ],
          "name": "stdout"
        }
      ]
    },
    {
      "cell_type": "code",
      "metadata": {
        "colab": {
          "base_uri": "https://localhost:8080/"
        },
        "id": "-qMwuRXPolXR",
        "outputId": "81f9b1bb-f828-4da1-ba2e-2b637e826546"
      },
      "source": [
        "#print a random integer from 1 to 12\r\n",
        "print(np.random.randint(12))"
      ],
      "execution_count": 109,
      "outputs": [
        {
          "output_type": "stream",
          "text": [
            "6\n"
          ],
          "name": "stdout"
        }
      ]
    },
    {
      "cell_type": "code",
      "metadata": {
        "colab": {
          "base_uri": "https://localhost:8080/"
        },
        "id": "SRDm0mjzo7qU",
        "outputId": "73922533-8399-4d64-b091-63df533056e3"
      },
      "source": [
        "#print a array of 3x3 of random integer from 1 to 12\r\n",
        "print(np.random.randint(1,3,(3,3)))"
      ],
      "execution_count": 114,
      "outputs": [
        {
          "output_type": "stream",
          "text": [
            "[[2 1 2]\n",
            " [2 2 1]\n",
            " [2 2 1]]\n"
          ],
          "name": "stdout"
        }
      ]
    },
    {
      "cell_type": "code",
      "metadata": {
        "colab": {
          "base_uri": "https://localhost:8080/"
        },
        "id": "2tRw-7B9pLVu",
        "outputId": "0afb43dd-5453-49c6-ebcd-15d3f601150e"
      },
      "source": [
        "#generate a same random number nth times using seed function\r\n",
        "np.random.seed(11)\r\n",
        "print(np.random.randint(1,3,(3,3)))"
      ],
      "execution_count": 128,
      "outputs": [
        {
          "output_type": "stream",
          "text": [
            "[[2 2 1]\n",
            " [2 2 2]\n",
            " [2 1 2]]\n"
          ],
          "name": "stdout"
        }
      ]
    },
    {
      "cell_type": "code",
      "metadata": {
        "colab": {
          "base_uri": "https://localhost:8080/"
        },
        "id": "HbttdrAlq83p",
        "outputId": "425dd798-98c7-4eaf-965c-d48a2583ea8c"
      },
      "source": [
        "#Generate a random element from list\r\n",
        "l=[1,4,3,2,5,6,7,9,32,4,66,5,9]\r\n",
        "print(np.random.choice(l))"
      ],
      "execution_count": 130,
      "outputs": [
        {
          "output_type": "stream",
          "text": [
            "3\n"
          ],
          "name": "stdout"
        }
      ]
    },
    {
      "cell_type": "code",
      "metadata": {
        "colab": {
          "base_uri": "https://localhost:8080/"
        },
        "id": "MqBsY8gtrNOA",
        "outputId": "397b5a3b-7597-4170-b83a-3de05181387b"
      },
      "source": [
        "#generate the permutation\r\n",
        "print(np.random.permutation(l))"
      ],
      "execution_count": 135,
      "outputs": [
        {
          "output_type": "stream",
          "text": [
            "[ 1 66  9  4  9  7  5  3 32  2  4  5  6]\n"
          ],
          "name": "stdout"
        }
      ]
    },
    {
      "cell_type": "code",
      "metadata": {
        "colab": {
          "base_uri": "https://localhost:8080/"
        },
        "id": "5FP6GPAQrYqb",
        "outputId": "1d70c7e3-3f4b-448c-fcf0-ffdc0bb35cba"
      },
      "source": [
        "#Random Shuffling\r\n",
        "np.random.shuffle(l)\r\n",
        "print(l)"
      ],
      "execution_count": 146,
      "outputs": [
        {
          "output_type": "stream",
          "text": [
            "[9, 6, 3, 2, 5, 4, 4, 66, 32, 5, 9, 7, 1]\n"
          ],
          "name": "stdout"
        }
      ]
    },
    {
      "cell_type": "markdown",
      "metadata": {
        "id": "rsOeJlmitCrr"
      },
      "source": [
        "***String Operations***"
      ]
    },
    {
      "cell_type": "code",
      "metadata": {
        "colab": {
          "base_uri": "https://localhost:8080/"
        },
        "id": "YM_rJQvMsnbU",
        "outputId": "0613ddfb-1145-4323-8dc2-4f4578092a2c"
      },
      "source": [
        "#add the first and last name using add function\r\n",
        "first_name=\"Yuvraj \"\r\n",
        "last_name=\"singh\"\r\n",
        "print(np.char.add(first_name,last_name))"
      ],
      "execution_count": 151,
      "outputs": [
        {
          "output_type": "stream",
          "text": [
            "Yuvraj singh\n"
          ],
          "name": "stdout"
        }
      ]
    },
    {
      "cell_type": "code",
      "metadata": {
        "colab": {
          "base_uri": "https://localhost:8080/"
        },
        "id": "Vh45RGYYug4i",
        "outputId": "09735a61-b5bb-44fd-a997-c657f0b502ed"
      },
      "source": [
        "#Upper and Lower Case\r\n",
        "#Upper \r\n",
        "print(\"Upper case of First name is : \",np.char.upper(first_name))\r\n",
        "\r\n",
        "#Lower case\r\n",
        "print(\"\\n\\nLower case of Yuvraj is : \",np.char.lower(first_name))"
      ],
      "execution_count": 154,
      "outputs": [
        {
          "output_type": "stream",
          "text": [
            "Upper case of First name is :  YUVRAJ \n",
            "\n",
            "\n",
            "Lower case of Yuvraj is :  yuvraj \n"
          ],
          "name": "stdout"
        }
      ]
    },
    {
      "cell_type": "code",
      "metadata": {
        "colab": {
          "base_uri": "https://localhost:8080/"
        },
        "id": "-R27Bcpdvwvt",
        "outputId": "2d9ddd8f-91a1-471e-8f79-2d2c16f6261f"
      },
      "source": [
        "#Center align of text\r\n",
        "a=\"Water\"\r\n",
        "print(np.char.center(a,100,fillchar=\"_\"))"
      ],
      "execution_count": 160,
      "outputs": [
        {
          "output_type": "stream",
          "text": [
            "_______________________________________________Water________________________________________________\n"
          ],
          "name": "stdout"
        }
      ]
    },
    {
      "cell_type": "code",
      "metadata": {
        "colab": {
          "base_uri": "https://localhost:8080/"
        },
        "id": "_PEuOpJUwY0u",
        "outputId": "9d072620-1a31-427f-ca87-a7fac35b7b10"
      },
      "source": [
        "#Join two strings with characters\r\n",
        "b=\"Cooler\"\r\n",
        "print(np.char.join([\":\",\".\"],[a,b]))"
      ],
      "execution_count": 163,
      "outputs": [
        {
          "output_type": "stream",
          "text": [
            "['W:a:t:e:r' 'C.o.o.l.e.r']\n"
          ],
          "name": "stdout"
        }
      ]
    },
    {
      "cell_type": "code",
      "metadata": {
        "colab": {
          "base_uri": "https://localhost:8080/"
        },
        "id": "GU3yhcd4xECJ",
        "outputId": "8bce090b-98b7-43bb-96a1-70981903e3f7"
      },
      "source": [
        "#Replace in string\r\n",
        "ar=\"This is a desk\"\r\n",
        "print(np.char.replace(ar,\"desk\",\"Table\"))\r\n"
      ],
      "execution_count": 164,
      "outputs": [
        {
          "output_type": "stream",
          "text": [
            "This is a Table\n"
          ],
          "name": "stdout"
        }
      ]
    },
    {
      "cell_type": "code",
      "metadata": {
        "colab": {
          "base_uri": "https://localhost:8080/"
        },
        "id": "3Zy3HakH51a4",
        "outputId": "0f1576da-0059-4dbb-962f-da137c537f7b"
      },
      "source": [
        "#Check fro Equality of string\r\n",
        "a=\"Hii\"\r\n",
        "b=\"hii\"\r\n",
        "print(np.char.equal(a,b))"
      ],
      "execution_count": 165,
      "outputs": [
        {
          "output_type": "stream",
          "text": [
            "False\n"
          ],
          "name": "stdout"
        }
      ]
    },
    {
      "cell_type": "code",
      "metadata": {
        "colab": {
          "base_uri": "https://localhost:8080/"
        },
        "id": "g1zH-nRb6Cn8",
        "outputId": "8ee9375f-c3f3-4952-f669-ddcbfcbc293e"
      },
      "source": [
        "#Count frequency of a character\r\n",
        "print(np.char.count(ar,\"s\"))"
      ],
      "execution_count": 170,
      "outputs": [
        {
          "output_type": "stream",
          "text": [
            "3\n"
          ],
          "name": "stdout"
        }
      ]
    },
    {
      "cell_type": "code",
      "metadata": {
        "colab": {
          "base_uri": "https://localhost:8080/"
        },
        "id": "bX3sYwGb6fQm",
        "outputId": "3dbf1f38-2cc8-42e0-ff8e-f304a6436592"
      },
      "source": [
        "#Split line from string\r\n",
        "a=\"This\\nis\\na\\ntable\"\r\n",
        "print(np.char.splitlines(a))"
      ],
      "execution_count": 175,
      "outputs": [
        {
          "output_type": "stream",
          "text": [
            "['This', 'is', 'a', 'table']\n"
          ],
          "name": "stdout"
        }
      ]
    },
    {
      "cell_type": "markdown",
      "metadata": {
        "id": "Uotnf8br64pK"
      },
      "source": [
        "***Trigonometric Operation***\r\n",
        "\r\n"
      ]
    },
    {
      "cell_type": "code",
      "metadata": {
        "colab": {
          "base_uri": "https://localhost:8080/",
          "height": 265
        },
        "id": "MFJU1SWP63db",
        "outputId": "3dd9b528-02cc-4a19-fb60-0203b4934474"
      },
      "source": [
        "#sin function\r\n",
        "x=np.arange(0,10*np.pi,0.1)\r\n",
        "y=np.sin(x)\r\n",
        "plt.plot(x,y)\r\n",
        "plt.show()"
      ],
      "execution_count": 193,
      "outputs": [
        {
          "output_type": "display_data",
          "data": {
            "image/png": "[encoded data removed]",
            "text/plain": [
              "<Figure size 432x288 with 1 Axes>"
            ]
          },
          "metadata": {
            "tags": [],
            "needs_background": "light"
          }
        }
      ]
    },
    {
      "cell_type": "code",
      "metadata": {
        "colab": {
          "base_uri": "https://localhost:8080/",
          "height": 265
        },
        "id": "YnPGphpnEIRy",
        "outputId": "37478060-4ac0-4352-e104-a911a76f710c"
      },
      "source": [
        "#Cos Function\r\n",
        "x=np.arange(0,10*np.pi,0.1)\r\n",
        "y=np.cos(x)\r\n",
        "plt.plot(x,y)\r\n",
        "plt.show()"
      ],
      "execution_count": 187,
      "outputs": [
        {
          "output_type": "display_data",
          "data": {
            "image/png": "[encoded data removed]",
            "text/plain": [
              "<Figure size 432x288 with 1 Axes>"
            ]
          },
          "metadata": {
            "tags": [],
            "needs_background": "light"
          }
        }
      ]
    },
    {
      "cell_type": "code",
      "metadata": {
        "colab": {
          "base_uri": "https://localhost:8080/",
          "height": 265
        },
        "id": "KdBKzjcpEpyB",
        "outputId": "5cac2320-eb3b-41b5-dcf1-14b0d43ac9de"
      },
      "source": [
        "x=np.arange(0,4*np.pi,0.1)\r\n",
        "y=np.tan(x)\r\n",
        "plt.plot(x,y)\r\n",
        "plt.show()"
      ],
      "execution_count": 194,
      "outputs": [
        {
          "output_type": "display_data",
          "data": {
            "image/png": "[encoded data removed]",
            "text/plain": [
              "<Figure size 432x288 with 1 Axes>"
            ]
          },
          "metadata": {
            "tags": [],
            "needs_background": "light"
          }
        }
      ]
    }
  ]
}